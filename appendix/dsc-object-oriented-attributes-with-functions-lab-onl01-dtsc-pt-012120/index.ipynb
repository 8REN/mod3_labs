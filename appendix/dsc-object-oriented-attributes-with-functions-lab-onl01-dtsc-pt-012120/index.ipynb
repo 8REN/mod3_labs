{
 "cells": [
  {
   "cell_type": "markdown",
   "metadata": {
    "toc": true
   },
   "source": [
    "<h1>Table of Contents<span class=\"tocSkip\"></span></h1>\n",
    "<div class=\"toc\"><ul class=\"toc-item\"><li><span><a href=\"#Object-Oriented-Attributes-With-Functions---Lab\" data-toc-modified-id=\"Object-Oriented-Attributes-With-Functions---Lab-1\"><span class=\"toc-item-num\">1&nbsp;&nbsp;</span>Object Oriented Attributes With Functions - Lab</a></span><ul class=\"toc-item\"><li><span><a href=\"#Introduction\" data-toc-modified-id=\"Introduction-1.1\"><span class=\"toc-item-num\">1.1&nbsp;&nbsp;</span>Introduction</a></span></li><li><span><a href=\"#Objectives\" data-toc-modified-id=\"Objectives-1.2\"><span class=\"toc-item-num\">1.2&nbsp;&nbsp;</span>Objectives</a></span></li><li><span><a href=\"#Creating-a-Simple-School-Class\" data-toc-modified-id=\"Creating-a-Simple-School-Class-1.3\"><span class=\"toc-item-num\">1.3&nbsp;&nbsp;</span>Creating a Simple School Class</a></span></li><li><span><a href=\"#Updating-the-init-method\" data-toc-modified-id=\"Updating-the-init-method-1.4\"><span class=\"toc-item-num\">1.4&nbsp;&nbsp;</span>Updating the <strong>init</strong> method</a></span></li><li><span><a href=\"#Adding-Methods\" data-toc-modified-id=\"Adding-Methods-1.5\"><span class=\"toc-item-num\">1.5&nbsp;&nbsp;</span>Adding Methods</a></span><ul class=\"toc-item\"><li><span><a href=\"#Method-1:-add_student()\" data-toc-modified-id=\"Method-1:-add_student()-1.5.1\"><span class=\"toc-item-num\">1.5.1&nbsp;&nbsp;</span>Method 1: <code>add_student()</code></a></span></li><li><span><a href=\"#Method-2:-grade()\" data-toc-modified-id=\"Method-2:-grade()-1.5.2\"><span class=\"toc-item-num\">1.5.2&nbsp;&nbsp;</span>Method 2: <code>grade()</code></a></span></li><li><span><a href=\"#Method-3:-sort_roster()\" data-toc-modified-id=\"Method-3:-sort_roster()-1.5.3\"><span class=\"toc-item-num\">1.5.3&nbsp;&nbsp;</span>Method 3: <code>sort_roster()</code></a></span></li></ul></li><li><span><a href=\"#Summary\" data-toc-modified-id=\"Summary-1.6\"><span class=\"toc-item-num\">1.6&nbsp;&nbsp;</span>Summary</a></span></li></ul></li></ul></div>"
   ]
  },
  {
   "cell_type": "markdown",
   "metadata": {},
   "source": [
    "# Object Oriented Attributes With Functions - Lab\n",
    "\n",
    "## Introduction\n",
    "\n",
    "In the last lesson, you saw what a **domain model** is and how it ties into object-oriented programming. In this lab, you'll be using a school as a domain model.\n",
    "\n",
    "## Objectives\n",
    "\n",
    "You will be able to:\n",
    "\n",
    "* Create a domain model using OOP\n",
    "* Create instance methods that operate on instance attributes\n",
    "\n",
    "\n",
    "## Creating a Simple School Class\n",
    "\n",
    "To start, open up the **school.py** file in your text editor of choice such as Atom, Sublime, or a simple notepad program. Within this file, create a `School()` class definition that will be initialized with the name of the school.\n",
    "\n",
    "> **Note:** the next cell imports an extension, `autoreload`, from IPython. The autoreload extension reloads any imported packages when methods from that package are called. While this is inefficient for stable packages such as NumPy which will be static while working in a notebook, the `autoreload` extension is quite useful when developing a package yourself. That is, you can update a package such as **school.py** and then test the effects in a notebook; with the `autoreload` extension, you'll see the effects of your changes to the package reflected. \n",
    "\n",
    ">> If you still have trouble with cells reflecting updates to the **school.py** file as you go along, go to the *Kernel* tab at the top of the Jupyter notebook and click *Restart & Run All*. This should smoothly run everything up to where you're working."
   ]
  },
  {
   "cell_type": "code",
   "execution_count": 23,
   "metadata": {},
   "outputs": [
    {
     "name": "stdout",
     "output_type": "stream",
     "text": [
      "The autoreload extension is already loaded. To reload it, use:\n",
      "  %reload_ext autoreload\n"
     ]
    }
   ],
   "source": [
    "%load_ext autoreload\n",
    "%autoreload 2"
   ]
  },
  {
   "cell_type": "code",
   "execution_count": 28,
   "metadata": {},
   "outputs": [],
   "source": [
    "from school import School"
   ]
  },
  {
   "cell_type": "code",
   "execution_count": 29,
   "metadata": {},
   "outputs": [],
   "source": [
    "school = School(\"Middletown High School\")"
   ]
  },
  {
   "cell_type": "markdown",
   "metadata": {},
   "source": [
    "## Updating the __init__ method\n",
    "\n",
    "Great! Now, update your `School()` definition in **school.py** to also include a `roster` attribute upon initialization. Initialize the `roster` attribute as an empty dictionary. Later, you'll use this empty roster dictionary to list students of each grade. For example, a future entry in the roster dictionary could be `{\"9\": [\"John Smith\", \"Jane Donahue\"]}`)."
   ]
  },
  {
   "cell_type": "code",
   "execution_count": 30,
   "metadata": {},
   "outputs": [
    {
     "data": {
      "text/plain": [
       "{}"
      ]
     },
     "execution_count": 30,
     "metadata": {},
     "output_type": "execute_result"
    }
   ],
   "source": [
    "# You must reinstantiate the object since you've modified the class definition!\n",
    "school = School(\"Middletown High School\") \n",
    "school.roster # {}"
   ]
  },
  {
   "cell_type": "markdown",
   "metadata": {},
   "source": [
    "## Adding Methods\n",
    "\n",
    "### Method 1: `add_student()` \n",
    "\n",
    "Now add a method `.add_student()` which takes two arguments: a student's full name and their grade level, and updates the roster dictionary accordingly. "
   ]
  },
  {
   "cell_type": "code",
   "execution_count": 31,
   "metadata": {},
   "outputs": [
    {
     "ename": "NameError",
     "evalue": "name 'roster' is not defined",
     "output_type": "error",
     "traceback": [
      "\u001b[0;31m---------------------------------------------------------------------------\u001b[0m",
      "\u001b[0;31mNameError\u001b[0m                                 Traceback (most recent call last)",
      "\u001b[0;32m<ipython-input-31-bf0b882f7bf6>\u001b[0m in \u001b[0;36m<module>\u001b[0;34m\u001b[0m\n\u001b[1;32m      1\u001b[0m \u001b[0;31m# Again, you must reinstantiate since you've modified the class!\u001b[0m\u001b[0;34m\u001b[0m\u001b[0;34m\u001b[0m\u001b[0;34m\u001b[0m\u001b[0m\n\u001b[1;32m      2\u001b[0m \u001b[0mschool\u001b[0m \u001b[0;34m=\u001b[0m \u001b[0mSchool\u001b[0m\u001b[0;34m(\u001b[0m\u001b[0;34m\"Middletown High School\"\u001b[0m\u001b[0;34m)\u001b[0m\u001b[0;34m\u001b[0m\u001b[0;34m\u001b[0m\u001b[0m\n\u001b[0;32m----> 3\u001b[0;31m \u001b[0mschool\u001b[0m\u001b[0;34m.\u001b[0m\u001b[0madd_student\u001b[0m\u001b[0;34m(\u001b[0m\u001b[0;34m\"Peter Piper\"\u001b[0m\u001b[0;34m,\u001b[0m \u001b[0;36m12\u001b[0m\u001b[0;34m)\u001b[0m\u001b[0;34m\u001b[0m\u001b[0;34m\u001b[0m\u001b[0m\n\u001b[0m\u001b[1;32m      4\u001b[0m \u001b[0mschool\u001b[0m\u001b[0;34m.\u001b[0m\u001b[0mroster\u001b[0m \u001b[0;31m# {\"12\": [\"Peter Piper\"]}\u001b[0m\u001b[0;34m\u001b[0m\u001b[0;34m\u001b[0m\u001b[0m\n",
      "\u001b[0;32m~/DSC/mod3/appendix/dsc-object-oriented-attributes-with-functions-lab-onl01-dtsc-pt-012120/school.py\u001b[0m in \u001b[0;36madd_student\u001b[0;34m(self, name, grade)\u001b[0m\n\u001b[1;32m      9\u001b[0m \u001b[0;34m\u001b[0m\u001b[0m\n\u001b[1;32m     10\u001b[0m         \u001b[0mself\u001b[0m\u001b[0;34m.\u001b[0m\u001b[0mgrade\u001b[0m \u001b[0;34m=\u001b[0m \u001b[0mgrade\u001b[0m\u001b[0;34m\u001b[0m\u001b[0;34m\u001b[0m\u001b[0m\n\u001b[0;32m---> 11\u001b[0;31m         \u001b[0mroster\u001b[0m\u001b[0;34m.\u001b[0m\u001b[0mappend\u001b[0m\u001b[0;34m(\u001b[0m\u001b[0madd_student\u001b[0m\u001b[0;34m)\u001b[0m\u001b[0;34m\u001b[0m\u001b[0;34m\u001b[0m\u001b[0m\n\u001b[0m\u001b[1;32m     12\u001b[0m \u001b[0;34m\u001b[0m\u001b[0m\n",
      "\u001b[0;31mNameError\u001b[0m: name 'roster' is not defined"
     ]
    }
   ],
   "source": [
    "# Again, you must reinstantiate since you've modified the class!\n",
    "school = School(\"Middletown High School\") \n",
    "school.add_student(\"Peter Piper\", 12)\n",
    "school.roster # {\"12\": [\"Peter Piper\"]}"
   ]
  },
  {
   "cell_type": "markdown",
   "metadata": {},
   "source": [
    "> **Hint:** If you're stuck, don't fret; this one's a little tricky. You need to consider two scenarios.\n",
    "    1. There is no entry for this grade yet in the roster dictionary:\n",
    "        - Add an entry to roster dictionary with the grade key and a single item list using the name\n",
    "    2. There is an entry for this grade in the roster dictionary:\n",
    "        - Append the current name to the list associated with that grade\n",
    "        \n",
    ">> Going further: if you're really ambitious, you can actually combine both of these conditions into a single line using the `.get()` method with dictionaries. Here's the docstring for the `.get()` method:  \n",
    "get(key[, default])  \n",
    "    Return the value for key if key is in the dictionary, else default. If default is not given, it defaults to None, so that this method never raises a KeyError.\n"
   ]
  },
  {
   "cell_type": "markdown",
   "metadata": {},
   "source": [
    "To make sure your method works for both scenarios, run the cell below: "
   ]
  },
  {
   "cell_type": "code",
   "execution_count": null,
   "metadata": {},
   "outputs": [],
   "source": [
    "school.add_student(\"Kelly Slater\", 9)\n",
    "school.add_student(\"Tony Hawk\", 10)\n",
    "school.add_student(\"Ryan Sheckler\", 10)\n",
    "school.add_student(\"Bethany Hamilton\", 11)\n",
    "school.roster # {9: [\"Kelly Slater\"], 10: [\"Tony Hawk\", \"Ryan Sheckler\"], 11: [\"Bethany Hamilton\"], 12: [\"Peter Piper\"]}"
   ]
  },
  {
   "cell_type": "markdown",
   "metadata": {},
   "source": [
    "### Method 2: `grade()`\n",
    "Next, define a method called `.grade()`, which should take in an argument of a grade and return a list of all the students in that grade. "
   ]
  },
  {
   "cell_type": "code",
   "execution_count": null,
   "metadata": {},
   "outputs": [],
   "source": [
    "# While annoying, you do need to reinstantiate the updated class and reform the previous methods\n",
    "school = School(\"Middletown High School\") \n",
    "school.add_student(\"Peter Piper\", 12)\n",
    "school.add_student(\"Kelly Slater\", 9)\n",
    "school.add_student(\"Tony Hawk\", 10)\n",
    "school.add_student(\"Ryan Sheckler\", 10)\n",
    "school.add_student(\"Bethany Hamilton\", 11)\n",
    "# Testing out your new method:\n",
    "print(school.grade(10)) # [\"Tony Hawk\", \"Ryan Sheckler\"]\n",
    "print(school.grade(12)) # [\"Peter Piper\"]"
   ]
  },
  {
   "cell_type": "markdown",
   "metadata": {},
   "source": [
    "### Method 3: `sort_roster()` \n",
    "\n",
    "Define a method called `.sort_roster()` that returns the school's roster where the strings in the student arrays are sorted alphabetically. For instance:\n",
    "`{9: [\"Kelly Slater\"], 10: [\"Ryan Sheckler\", \"Tony Hawk\"], 11: [\"Bethany Hamilton\"], 12: [\"Peter Piper\"]}}`"
   ]
  },
  {
   "cell_type": "markdown",
   "metadata": {},
   "source": [
    ">**Note:** since dictionaries are unordered, the order of the keys does not matter here, just the order of the student's names within each list."
   ]
  },
  {
   "cell_type": "code",
   "execution_count": null,
   "metadata": {},
   "outputs": [],
   "source": [
    "school.sort_roster()"
   ]
  },
  {
   "cell_type": "markdown",
   "metadata": {},
   "source": [
    "## Summary\n",
    "In this lab, you continued to pracitce OOP, designing a more complex domain model using a `School()` class with a few instance methods and variables. Soon you'll see that domain models can use other classes, instance methods, and instance variables to create more functionality in your programs."
   ]
  }
 ],
 "metadata": {
  "kernelspec": {
   "display_name": "Python 3",
   "language": "python",
   "name": "python3"
  },
  "language_info": {
   "codemirror_mode": {
    "name": "ipython",
    "version": 3
   },
   "file_extension": ".py",
   "mimetype": "text/x-python",
   "name": "python",
   "nbconvert_exporter": "python",
   "pygments_lexer": "ipython3",
   "version": "3.6.9"
  },
  "toc": {
   "base_numbering": 1,
   "nav_menu": {},
   "number_sections": true,
   "sideBar": true,
   "skip_h1_title": false,
   "title_cell": "Table of Contents",
   "title_sidebar": "Contents",
   "toc_cell": true,
   "toc_position": {},
   "toc_section_display": true,
   "toc_window_display": false
  }
 },
 "nbformat": 4,
 "nbformat_minor": 2
}
