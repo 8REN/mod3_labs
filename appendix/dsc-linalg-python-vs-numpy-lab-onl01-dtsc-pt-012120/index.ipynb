{
 "cells": [
  {
   "cell_type": "markdown",
   "metadata": {
    "toc": true
   },
   "source": [
    "<h1>Table of Contents<span class=\"tocSkip\"></span></h1>\n",
    "<div class=\"toc\"><ul class=\"toc-item\"><li><span><a href=\"#Pure-Python-vs.-Numpy---Lab\" data-toc-modified-id=\"Pure-Python-vs.-Numpy---Lab-1\"><span class=\"toc-item-num\">1&nbsp;&nbsp;</span>Pure Python vs. Numpy - Lab</a></span><ul class=\"toc-item\"><li><span><a href=\"#Introduction\" data-toc-modified-id=\"Introduction-1.1\"><span class=\"toc-item-num\">1.1&nbsp;&nbsp;</span>Introduction</a></span></li><li><span><a href=\"#Objectives\" data-toc-modified-id=\"Objectives-1.2\"><span class=\"toc-item-num\">1.2&nbsp;&nbsp;</span>Objectives</a></span></li><li><span><a href=\"#Problem\" data-toc-modified-id=\"Problem-1.3\"><span class=\"toc-item-num\">1.3&nbsp;&nbsp;</span>Problem</a></span><ul class=\"toc-item\"><li><span><a href=\"#Create-two-$200-\\times-200$-matrices-in-Python-and-fill-them-with-random-values-using-np.random.rand()\" data-toc-modified-id=\"Create-two-$200-\\times-200$-matrices-in-Python-and-fill-them-with-random-values-using-np.random.rand()-1.3.1\"><span class=\"toc-item-num\">1.3.1&nbsp;&nbsp;</span>Create two $200 \\times 200$ matrices in Python and fill them with random values using <code>np.random.rand()</code></a></span></li></ul></li><li><span><a href=\"#Pure-Python\" data-toc-modified-id=\"Pure-Python-1.4\"><span class=\"toc-item-num\">1.4&nbsp;&nbsp;</span>Pure Python</a></span></li><li><span><a href=\"#Numpy\" data-toc-modified-id=\"Numpy-1.5\"><span class=\"toc-item-num\">1.5&nbsp;&nbsp;</span>Numpy</a></span><ul class=\"toc-item\"><li><span><a href=\"#Your-comments\" data-toc-modified-id=\"Your-comments-1.5.1\"><span class=\"toc-item-num\">1.5.1&nbsp;&nbsp;</span>Your comments</a></span></li></ul></li></ul></li><li><span><a href=\"#Numpy-is-much-faster-than-pure-Python\" data-toc-modified-id=\"Numpy-is-much-faster-than-pure-Python-2\"><span class=\"toc-item-num\">2&nbsp;&nbsp;</span>Numpy is much faster than pure Python</a></span></li><li><span><a href=\"#Numpy-provides-support-for-large-multidimensional-arrays-and-matrices\" data-toc-modified-id=\"Numpy-provides-support-for-large-multidimensional-arrays-and-matrices-3\"><span class=\"toc-item-num\">3&nbsp;&nbsp;</span>Numpy provides support for large multidimensional arrays and matrices</a></span></li><li><span><a href=\"#along-with-a-collection-of-mathematical-functions-to-operate-on-these-elements.\" data-toc-modified-id=\"along-with-a-collection-of-mathematical-functions-to-operate-on-these-elements.-4\"><span class=\"toc-item-num\">4&nbsp;&nbsp;</span>along with a collection of mathematical functions to operate on these elements.</a></span></li><li><span><a href=\"#Numpy-relies-on-well-known-packages-implemented-in-other-languages-(like-Fortran)-to-perform-efficient-computations,\" data-toc-modified-id=\"Numpy-relies-on-well-known-packages-implemented-in-other-languages-(like-Fortran)-to-perform-efficient-computations,-5\"><span class=\"toc-item-num\">5&nbsp;&nbsp;</span>Numpy relies on well-known packages implemented in other languages (like Fortran) to perform efficient computations,</a></span></li><li><span><a href=\"#bringing-the-user-both-the-expressiveness-of-Python-and-a-performance-similar-to-MATLAB-or-Fortran.\" data-toc-modified-id=\"bringing-the-user-both-the-expressiveness-of-Python-and-a-performance-similar-to-MATLAB-or-Fortran.-6\"><span class=\"toc-item-num\">6&nbsp;&nbsp;</span>bringing the user both the expressiveness of Python and a performance similar to MATLAB or Fortran.</a></span><ul class=\"toc-item\"><li><span><a href=\"#Summary\" data-toc-modified-id=\"Summary-6.1\"><span class=\"toc-item-num\">6.1&nbsp;&nbsp;</span>Summary</a></span></li></ul></li></ul></div>"
   ]
  },
  {
   "cell_type": "markdown",
   "metadata": {},
   "source": [
    "# Pure Python vs. Numpy - Lab\n",
    "\n",
    "## Introduction \n",
    "\n",
    "Numpy, Scipy, and Pandas provide a significant increase in computational efficiency with complex mathematical operations as compared to Python's built-in arithmetic functions. In this lab, you will calculate and compare the processing speed required for calculating a dot product using both basic arithmetic operations in Python and Numpy's `.dot()` method. \n",
    "\n",
    "## Objectives\n",
    "You will be able to:\n",
    "\n",
    "- Compare the performance of high-dimensional matrix operations in Numpy vs. pure Python\n",
    "\n",
    "## Problem \n",
    "\n",
    "Write a routine to calculate the dot product between two $200 \\times 200$ dimensional matrices using:\n",
    "\n",
    "a) Pure Python (no libraries)\n",
    "\n",
    "b) Numpy's `.dot()` method \n",
    "\n",
    "\n",
    "### Create two $200 \\times 200$ matrices in Python and fill them with random values using `np.random.rand()` "
   ]
  },
  {
   "cell_type": "code",
   "execution_count": 1,
   "metadata": {},
   "outputs": [],
   "source": [
    "# Compare 200x200 matrix-matrix multiplication speed\n",
    "import numpy as np\n",
    "# Set up the variables\n",
    "\n",
    "SIZE = 200\n",
    "A = np.random.rand(SIZE, SIZE)\n",
    "B = np.random.rand(SIZE, SIZE)"
   ]
  },
  {
   "cell_type": "markdown",
   "metadata": {},
   "source": [
    "## Pure Python\n",
    "\n",
    "* Initialize a zeros-filled `numpy` matrix\n",
    "* In Python, calculate the dot product using the formula \n",
    "\n",
    "\n",
    "$$ \\large C_{i,j}= \\sum_k A_{i,k}B_{k,j}$$\n",
    "\n",
    "\n",
    "* Use Python's `timeit` library to calculate the processing time\n",
    "* [Visit this link](https://www.pythoncentral.io/time-a-python-function/) for an in-depth explanation on how to time a function or routine in Python\n",
    "\n",
    "**Hint**: Use a nested `for` loop for accessing, calculating, and storing each scalar value in the resulting matrix. "
   ]
  },
  {
   "cell_type": "code",
   "execution_count": 2,
   "metadata": {},
   "outputs": [
    {
     "name": "stdout",
     "output_type": "stream",
     "text": [
      "Pure Python time: 5.133476663992042 sec.\n"
     ]
    }
   ],
   "source": [
    "import timeit\n",
    "\n",
    "# Start the timer\n",
    "start = timeit.default_timer()\n",
    "\n",
    "# Matrix multiplication in pure Python\n",
    "\n",
    "out2 = np.zeros((SIZE, SIZE))\n",
    "\n",
    "for i in range(SIZE):\n",
    "  for j in range(SIZE):\n",
    "    for k in range(SIZE):\n",
    "      \n",
    "        out2[i, k] += A[i, j]*B[j, k]\n",
    "\n",
    "time_spent = timeit.default_timer() - start\n",
    "\n",
    "print('Pure Python time:', time_spent, 'sec.')"
   ]
  },
  {
   "cell_type": "markdown",
   "metadata": {},
   "source": [
    "## Numpy \n",
    "Set the timer and calculate the time taken by the `.dot()` method for multiplying $A$ and $B$ \n"
   ]
  },
  {
   "cell_type": "code",
   "execution_count": 3,
   "metadata": {},
   "outputs": [
    {
     "name": "stdout",
     "output_type": "stream",
     "text": [
      "Numpy time: 0.003187199996318668 sec.\n"
     ]
    }
   ],
   "source": [
    "# Start the timer\n",
    "start = timeit.default_timer()\n",
    "\n",
    "# Matrix multiplication in numpy\n",
    "out1 = A.dot(B)\n",
    "\n",
    "time_spent = timeit.default_timer() - start\n",
    "print('Numpy time:', time_spent, 'sec.')"
   ]
  },
  {
   "cell_type": "code",
   "execution_count": null,
   "metadata": {},
   "outputs": [],
   "source": [
    "### Your comments\n",
    "# Numpy is much faster than pure Python \n",
    "\n",
    "# Numpy provides support for large multidimensional arrays and matrices \n",
    "# along with a collection of mathematical functions to operate on these elements. \n",
    "\n",
    "# Numpy relies on well-known packages implemented in other languages (like Fortran) to perform efficient computations, \n",
    "# bringing the user both the expressiveness of Python and a performance similar to MATLAB or Fortran.\n"
   ]
  },
  {
   "cell_type": "markdown",
   "metadata": {},
   "source": [
    "## Summary\n",
    "\n",
    "In this lab, you performed a quick comparison between calculating a dot product in Numpy vs pure Python. You saw that Numpy is computationally much more efficient than pure Python code because of the sophisticated implementation of Numpy source code. You're encouraged to always perform time tests to fully appreciate the use of an additional library in Python. "
   ]
  },
  {
   "cell_type": "code",
   "execution_count": null,
   "metadata": {},
   "outputs": [],
   "source": []
  }
 ],
 "metadata": {
  "kernelspec": {
   "display_name": "Python 3",
   "language": "python",
   "name": "python3"
  },
  "language_info": {
   "codemirror_mode": {
    "name": "ipython",
    "version": 3
   },
   "file_extension": ".py",
   "mimetype": "text/x-python",
   "name": "python",
   "nbconvert_exporter": "python",
   "pygments_lexer": "ipython3",
   "version": "3.6.9"
  },
  "toc": {
   "base_numbering": 1,
   "nav_menu": {},
   "number_sections": true,
   "sideBar": true,
   "skip_h1_title": false,
   "title_cell": "Table of Contents",
   "title_sidebar": "Contents",
   "toc_cell": true,
   "toc_position": {},
   "toc_section_display": true,
   "toc_window_display": false
  }
 },
 "nbformat": 4,
 "nbformat_minor": 2
}
